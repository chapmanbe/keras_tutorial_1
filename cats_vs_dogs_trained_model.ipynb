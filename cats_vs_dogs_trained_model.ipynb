{
 "cells": [
  {
   "cell_type": "markdown",
   "metadata": {},
   "source": [
    "# Introduction to Keras \n",
    "## II. Using a pretrained model\n",
    "\n",
    "#### Alec Chapman\n",
    "\n",
    "This tutorial was adapted from [this keras blog](https://blog.keras.io/building-powerful-image-classification-models-using-very-little-data.html)\n",
    "\n",
    "\n",
    "The data comes from a [Kaggle competition to classify images as being cats or dogs. The data can be downloaded [here](https://www.kaggle.com/c/dogs-vs-cats/data) after signing into Kaggle (either via a Kaggle account or Google, Facebook, or Yahoo!)."
   ]
  },
  {
   "cell_type": "markdown",
   "metadata": {},
   "source": [
    "### Import some modules needed for our tutorial"
   ]
  },
  {
   "cell_type": "code",
   "execution_count": 16,
   "metadata": {
    "scrolled": true
   },
   "outputs": [],
   "source": [
    "import glob, os\n",
    "import random\n",
    "import numpy as np\n",
    "from PIL import Image\n",
    "from keras.preprocessing.image import ImageDataGenerator\n",
    "from keras.preprocessing.image import ImageDataGenerator, array_to_img, img_to_array, load_img\n",
    "\n",
    "from keras.models import Sequential\n",
    "from keras.layers import Conv2D, MaxPooling2D\n",
    "from keras.layers import Activation, Dropout, Flatten, Dense, BatchNormalization\n",
    "from keras.models import load_model\n",
    "from skimage.io import imshow\n",
    "import matplotlib.pyplot as plt"
   ]
  },
  {
   "cell_type": "markdown",
   "metadata": {},
   "source": [
    "### Set the data directory paths"
   ]
  },
  {
   "cell_type": "code",
   "execution_count": 17,
   "metadata": {
    "scrolled": true
   },
   "outputs": [],
   "source": [
    "DATADIR = '/home/jovyan/DATA/keras_cat_dog/data'\n",
    "TRAINDIR = os.path.join(DATADIR, 'train')\n",
    "VALDIR = os.path.join(DATADIR, 'val')\n",
    "assert os.path.exists(DATADIR)"
   ]
  },
  {
   "cell_type": "markdown",
   "metadata": {},
   "source": [
    "## Overview - Pretrained Models\n",
    "In the last notebook, we saw how we can create a Convolutional Neural Network from scratch and train it on our data. However, training can take a long time, and you don't want to have to train every time you want to make predictions with your model.\n",
    "\n",
    "Keras makes it very easy to load in pretrained models. We'll load in a model that was trained using our data and use our validation data to evaluate its performance."
   ]
  },
  {
   "cell_type": "code",
   "execution_count": 17,
   "metadata": {
    "scrolled": true
   },
   "outputs": [
    {
     "name": "stdout",
     "output_type": "stream",
     "text": [
      "train  val\r\n"
     ]
    }
   ],
   "source": [
    "!ls /srv/DATA/keras_cat_dog/data"
   ]
  },
  {
   "cell_type": "code",
   "execution_count": 18,
   "metadata": {
    "collapsed": true,
    "scrolled": true
   },
   "outputs": [],
   "source": [
    "model = load_model(os.path.join(DATADIR, '..', 'cnn.h5'))"
   ]
  },
  {
   "cell_type": "markdown",
   "metadata": {},
   "source": [
    "The architecture of the model is defined in a JSON object that can be accessed with `get_config()`. This plus the weights is how Keras deals with serialization. We can print this out to see the details of our architecture (and verify that it's the same as the model we defined)."
   ]
  },
  {
   "cell_type": "code",
   "execution_count": 19,
   "metadata": {
    "scrolled": true
   },
   "outputs": [
    {
     "data": {
      "text/plain": [
       "[{'class_name': 'Conv2D',\n",
       "  'config': {'activation': 'linear',\n",
       "   'activity_regularizer': None,\n",
       "   'batch_input_shape': (None, 227, 227, 3),\n",
       "   'bias_constraint': None,\n",
       "   'bias_initializer': {'class_name': 'Zeros', 'config': {}},\n",
       "   'bias_regularizer': None,\n",
       "   'data_format': 'channels_last',\n",
       "   'dilation_rate': (1, 1),\n",
       "   'dtype': 'float32',\n",
       "   'filters': 96,\n",
       "   'kernel_constraint': None,\n",
       "   'kernel_initializer': {'class_name': 'VarianceScaling',\n",
       "    'config': {'distribution': 'uniform',\n",
       "     'mode': 'fan_avg',\n",
       "     'scale': 1.0,\n",
       "     'seed': None}},\n",
       "   'kernel_regularizer': None,\n",
       "   'kernel_size': (11, 11),\n",
       "   'name': 'conv2d_28',\n",
       "   'padding': 'valid',\n",
       "   'strides': (4, 4),\n",
       "   'trainable': True,\n",
       "   'use_bias': True}},\n",
       " {'class_name': 'BatchNormalization',\n",
       "  'config': {'axis': -1,\n",
       "   'beta_constraint': None,\n",
       "   'beta_initializer': {'class_name': 'Zeros', 'config': {}},\n",
       "   'beta_regularizer': None,\n",
       "   'center': True,\n",
       "   'epsilon': 0.001,\n",
       "   'gamma_constraint': None,\n",
       "   'gamma_initializer': {'class_name': 'Ones', 'config': {}},\n",
       "   'gamma_regularizer': None,\n",
       "   'momentum': 0.99,\n",
       "   'moving_mean_initializer': {'class_name': 'Zeros', 'config': {}},\n",
       "   'moving_variance_initializer': {'class_name': 'Ones', 'config': {}},\n",
       "   'name': 'batch_normalization_29',\n",
       "   'scale': True,\n",
       "   'trainable': True}},\n",
       " {'class_name': 'Activation',\n",
       "  'config': {'activation': 'relu',\n",
       "   'name': 'activation_25',\n",
       "   'trainable': True}},\n",
       " {'class_name': 'MaxPooling2D',\n",
       "  'config': {'data_format': 'channels_last',\n",
       "   'name': 'max_pooling2d_17',\n",
       "   'padding': 'valid',\n",
       "   'pool_size': (3, 3),\n",
       "   'strides': (2, 2),\n",
       "   'trainable': True}},\n",
       " {'class_name': 'Conv2D',\n",
       "  'config': {'activation': 'linear',\n",
       "   'activity_regularizer': None,\n",
       "   'bias_constraint': None,\n",
       "   'bias_initializer': {'class_name': 'Zeros', 'config': {}},\n",
       "   'bias_regularizer': None,\n",
       "   'data_format': 'channels_last',\n",
       "   'dilation_rate': (1, 1),\n",
       "   'filters': 256,\n",
       "   'kernel_constraint': None,\n",
       "   'kernel_initializer': {'class_name': 'VarianceScaling',\n",
       "    'config': {'distribution': 'uniform',\n",
       "     'mode': 'fan_avg',\n",
       "     'scale': 1.0,\n",
       "     'seed': None}},\n",
       "   'kernel_regularizer': None,\n",
       "   'kernel_size': (5, 5),\n",
       "   'name': 'conv2d_29',\n",
       "   'padding': 'valid',\n",
       "   'strides': (1, 1),\n",
       "   'trainable': True,\n",
       "   'use_bias': True}},\n",
       " {'class_name': 'BatchNormalization',\n",
       "  'config': {'axis': -1,\n",
       "   'beta_constraint': None,\n",
       "   'beta_initializer': {'class_name': 'Zeros', 'config': {}},\n",
       "   'beta_regularizer': None,\n",
       "   'center': True,\n",
       "   'epsilon': 0.001,\n",
       "   'gamma_constraint': None,\n",
       "   'gamma_initializer': {'class_name': 'Ones', 'config': {}},\n",
       "   'gamma_regularizer': None,\n",
       "   'momentum': 0.99,\n",
       "   'moving_mean_initializer': {'class_name': 'Zeros', 'config': {}},\n",
       "   'moving_variance_initializer': {'class_name': 'Ones', 'config': {}},\n",
       "   'name': 'batch_normalization_30',\n",
       "   'scale': True,\n",
       "   'trainable': True}},\n",
       " {'class_name': 'Activation',\n",
       "  'config': {'activation': 'relu',\n",
       "   'name': 'activation_26',\n",
       "   'trainable': True}},\n",
       " {'class_name': 'MaxPooling2D',\n",
       "  'config': {'data_format': 'channels_last',\n",
       "   'name': 'max_pooling2d_18',\n",
       "   'padding': 'valid',\n",
       "   'pool_size': (3, 3),\n",
       "   'strides': (2, 2),\n",
       "   'trainable': True}},\n",
       " {'class_name': 'Conv2D',\n",
       "  'config': {'activation': 'linear',\n",
       "   'activity_regularizer': None,\n",
       "   'bias_constraint': None,\n",
       "   'bias_initializer': {'class_name': 'Zeros', 'config': {}},\n",
       "   'bias_regularizer': None,\n",
       "   'data_format': 'channels_last',\n",
       "   'dilation_rate': (1, 1),\n",
       "   'filters': 384,\n",
       "   'kernel_constraint': None,\n",
       "   'kernel_initializer': {'class_name': 'VarianceScaling',\n",
       "    'config': {'distribution': 'uniform',\n",
       "     'mode': 'fan_avg',\n",
       "     'scale': 1.0,\n",
       "     'seed': None}},\n",
       "   'kernel_regularizer': None,\n",
       "   'kernel_size': (3, 3),\n",
       "   'name': 'conv2d_30',\n",
       "   'padding': 'valid',\n",
       "   'strides': (1, 1),\n",
       "   'trainable': True,\n",
       "   'use_bias': True}},\n",
       " {'class_name': 'BatchNormalization',\n",
       "  'config': {'axis': -1,\n",
       "   'beta_constraint': None,\n",
       "   'beta_initializer': {'class_name': 'Zeros', 'config': {}},\n",
       "   'beta_regularizer': None,\n",
       "   'center': True,\n",
       "   'epsilon': 0.001,\n",
       "   'gamma_constraint': None,\n",
       "   'gamma_initializer': {'class_name': 'Ones', 'config': {}},\n",
       "   'gamma_regularizer': None,\n",
       "   'momentum': 0.99,\n",
       "   'moving_mean_initializer': {'class_name': 'Zeros', 'config': {}},\n",
       "   'moving_variance_initializer': {'class_name': 'Ones', 'config': {}},\n",
       "   'name': 'batch_normalization_31',\n",
       "   'scale': True,\n",
       "   'trainable': True}},\n",
       " {'class_name': 'Conv2D',\n",
       "  'config': {'activation': 'linear',\n",
       "   'activity_regularizer': None,\n",
       "   'bias_constraint': None,\n",
       "   'bias_initializer': {'class_name': 'Zeros', 'config': {}},\n",
       "   'bias_regularizer': None,\n",
       "   'data_format': 'channels_last',\n",
       "   'dilation_rate': (1, 1),\n",
       "   'filters': 256,\n",
       "   'kernel_constraint': None,\n",
       "   'kernel_initializer': {'class_name': 'VarianceScaling',\n",
       "    'config': {'distribution': 'uniform',\n",
       "     'mode': 'fan_avg',\n",
       "     'scale': 1.0,\n",
       "     'seed': None}},\n",
       "   'kernel_regularizer': None,\n",
       "   'kernel_size': (3, 3),\n",
       "   'name': 'conv2d_31',\n",
       "   'padding': 'valid',\n",
       "   'strides': (1, 1),\n",
       "   'trainable': True,\n",
       "   'use_bias': True}},\n",
       " {'class_name': 'BatchNormalization',\n",
       "  'config': {'axis': -1,\n",
       "   'beta_constraint': None,\n",
       "   'beta_initializer': {'class_name': 'Zeros', 'config': {}},\n",
       "   'beta_regularizer': None,\n",
       "   'center': True,\n",
       "   'epsilon': 0.001,\n",
       "   'gamma_constraint': None,\n",
       "   'gamma_initializer': {'class_name': 'Ones', 'config': {}},\n",
       "   'gamma_regularizer': None,\n",
       "   'momentum': 0.99,\n",
       "   'moving_mean_initializer': {'class_name': 'Zeros', 'config': {}},\n",
       "   'moving_variance_initializer': {'class_name': 'Ones', 'config': {}},\n",
       "   'name': 'batch_normalization_32',\n",
       "   'scale': True,\n",
       "   'trainable': True}},\n",
       " {'class_name': 'Conv2D',\n",
       "  'config': {'activation': 'linear',\n",
       "   'activity_regularizer': None,\n",
       "   'bias_constraint': None,\n",
       "   'bias_initializer': {'class_name': 'Zeros', 'config': {}},\n",
       "   'bias_regularizer': None,\n",
       "   'data_format': 'channels_last',\n",
       "   'dilation_rate': (1, 1),\n",
       "   'filters': 256,\n",
       "   'kernel_constraint': None,\n",
       "   'kernel_initializer': {'class_name': 'VarianceScaling',\n",
       "    'config': {'distribution': 'uniform',\n",
       "     'mode': 'fan_avg',\n",
       "     'scale': 1.0,\n",
       "     'seed': None}},\n",
       "   'kernel_regularizer': None,\n",
       "   'kernel_size': (3, 3),\n",
       "   'name': 'conv2d_32',\n",
       "   'padding': 'valid',\n",
       "   'strides': (1, 1),\n",
       "   'trainable': True,\n",
       "   'use_bias': True}},\n",
       " {'class_name': 'Activation',\n",
       "  'config': {'activation': 'relu',\n",
       "   'name': 'activation_27',\n",
       "   'trainable': True}},\n",
       " {'class_name': 'MaxPooling2D',\n",
       "  'config': {'data_format': 'channels_last',\n",
       "   'name': 'max_pooling2d_19',\n",
       "   'padding': 'valid',\n",
       "   'pool_size': (3, 3),\n",
       "   'strides': (2, 2),\n",
       "   'trainable': True}},\n",
       " {'class_name': 'Flatten', 'config': {'name': 'flatten_5', 'trainable': True}},\n",
       " {'class_name': 'Dense',\n",
       "  'config': {'activation': 'linear',\n",
       "   'activity_regularizer': None,\n",
       "   'bias_constraint': None,\n",
       "   'bias_initializer': {'class_name': 'Zeros', 'config': {}},\n",
       "   'bias_regularizer': None,\n",
       "   'kernel_constraint': None,\n",
       "   'kernel_initializer': {'class_name': 'VarianceScaling',\n",
       "    'config': {'distribution': 'uniform',\n",
       "     'mode': 'fan_avg',\n",
       "     'scale': 1.0,\n",
       "     'seed': None}},\n",
       "   'kernel_regularizer': None,\n",
       "   'name': 'dense_13',\n",
       "   'trainable': True,\n",
       "   'units': 4096,\n",
       "   'use_bias': True}},\n",
       " {'class_name': 'BatchNormalization',\n",
       "  'config': {'axis': -1,\n",
       "   'beta_constraint': None,\n",
       "   'beta_initializer': {'class_name': 'Zeros', 'config': {}},\n",
       "   'beta_regularizer': None,\n",
       "   'center': True,\n",
       "   'epsilon': 0.001,\n",
       "   'gamma_constraint': None,\n",
       "   'gamma_initializer': {'class_name': 'Ones', 'config': {}},\n",
       "   'gamma_regularizer': None,\n",
       "   'momentum': 0.99,\n",
       "   'moving_mean_initializer': {'class_name': 'Zeros', 'config': {}},\n",
       "   'moving_variance_initializer': {'class_name': 'Ones', 'config': {}},\n",
       "   'name': 'batch_normalization_33',\n",
       "   'scale': True,\n",
       "   'trainable': True}},\n",
       " {'class_name': 'Activation',\n",
       "  'config': {'activation': 'relu',\n",
       "   'name': 'activation_28',\n",
       "   'trainable': True}},\n",
       " {'class_name': 'Dropout',\n",
       "  'config': {'name': 'dropout_9',\n",
       "   'noise_shape': None,\n",
       "   'rate': 0.5,\n",
       "   'seed': None,\n",
       "   'trainable': True}},\n",
       " {'class_name': 'Dense',\n",
       "  'config': {'activation': 'linear',\n",
       "   'activity_regularizer': None,\n",
       "   'bias_constraint': None,\n",
       "   'bias_initializer': {'class_name': 'Zeros', 'config': {}},\n",
       "   'bias_regularizer': None,\n",
       "   'kernel_constraint': None,\n",
       "   'kernel_initializer': {'class_name': 'VarianceScaling',\n",
       "    'config': {'distribution': 'uniform',\n",
       "     'mode': 'fan_avg',\n",
       "     'scale': 1.0,\n",
       "     'seed': None}},\n",
       "   'kernel_regularizer': None,\n",
       "   'name': 'dense_14',\n",
       "   'trainable': True,\n",
       "   'units': 4096,\n",
       "   'use_bias': True}},\n",
       " {'class_name': 'Dropout',\n",
       "  'config': {'name': 'dropout_10',\n",
       "   'noise_shape': None,\n",
       "   'rate': 0.5,\n",
       "   'seed': None,\n",
       "   'trainable': True}},\n",
       " {'class_name': 'BatchNormalization',\n",
       "  'config': {'axis': -1,\n",
       "   'beta_constraint': None,\n",
       "   'beta_initializer': {'class_name': 'Zeros', 'config': {}},\n",
       "   'beta_regularizer': None,\n",
       "   'center': True,\n",
       "   'epsilon': 0.001,\n",
       "   'gamma_constraint': None,\n",
       "   'gamma_initializer': {'class_name': 'Ones', 'config': {}},\n",
       "   'gamma_regularizer': None,\n",
       "   'momentum': 0.99,\n",
       "   'moving_mean_initializer': {'class_name': 'Zeros', 'config': {}},\n",
       "   'moving_variance_initializer': {'class_name': 'Ones', 'config': {}},\n",
       "   'name': 'batch_normalization_34',\n",
       "   'scale': True,\n",
       "   'trainable': True}},\n",
       " {'class_name': 'Dense',\n",
       "  'config': {'activation': 'linear',\n",
       "   'activity_regularizer': None,\n",
       "   'bias_constraint': None,\n",
       "   'bias_initializer': {'class_name': 'Zeros', 'config': {}},\n",
       "   'bias_regularizer': None,\n",
       "   'kernel_constraint': None,\n",
       "   'kernel_initializer': {'class_name': 'VarianceScaling',\n",
       "    'config': {'distribution': 'uniform',\n",
       "     'mode': 'fan_avg',\n",
       "     'scale': 1.0,\n",
       "     'seed': None}},\n",
       "   'kernel_regularizer': None,\n",
       "   'name': 'dense_15',\n",
       "   'trainable': True,\n",
       "   'units': 1000,\n",
       "   'use_bias': True}},\n",
       " {'class_name': 'BatchNormalization',\n",
       "  'config': {'axis': -1,\n",
       "   'beta_constraint': None,\n",
       "   'beta_initializer': {'class_name': 'Zeros', 'config': {}},\n",
       "   'beta_regularizer': None,\n",
       "   'center': True,\n",
       "   'epsilon': 0.001,\n",
       "   'gamma_constraint': None,\n",
       "   'gamma_initializer': {'class_name': 'Ones', 'config': {}},\n",
       "   'gamma_regularizer': None,\n",
       "   'momentum': 0.99,\n",
       "   'moving_mean_initializer': {'class_name': 'Zeros', 'config': {}},\n",
       "   'moving_variance_initializer': {'class_name': 'Ones', 'config': {}},\n",
       "   'name': 'batch_normalization_35',\n",
       "   'scale': True,\n",
       "   'trainable': True}},\n",
       " {'class_name': 'Dense',\n",
       "  'config': {'activation': 'linear',\n",
       "   'activity_regularizer': None,\n",
       "   'bias_constraint': None,\n",
       "   'bias_initializer': {'class_name': 'Zeros', 'config': {}},\n",
       "   'bias_regularizer': None,\n",
       "   'kernel_constraint': None,\n",
       "   'kernel_initializer': {'class_name': 'VarianceScaling',\n",
       "    'config': {'distribution': 'uniform',\n",
       "     'mode': 'fan_avg',\n",
       "     'scale': 1.0,\n",
       "     'seed': None}},\n",
       "   'kernel_regularizer': None,\n",
       "   'name': 'dense_16',\n",
       "   'trainable': True,\n",
       "   'units': 1,\n",
       "   'use_bias': True}},\n",
       " {'class_name': 'Activation',\n",
       "  'config': {'activation': 'sigmoid',\n",
       "   'name': 'activation_29',\n",
       "   'trainable': True}}]"
      ]
     },
     "execution_count": 19,
     "metadata": {},
     "output_type": "execute_result"
    }
   ],
   "source": [
    "model.get_config()"
   ]
  },
  {
   "cell_type": "code",
   "execution_count": 22,
   "metadata": {
    "scrolled": true
   },
   "outputs": [
    {
     "data": {
      "text/plain": [
       "[<tf.Variable 'conv2d_28_1/kernel:0' shape=(11, 11, 3, 96) dtype=float32_ref>,\n",
       " <tf.Variable 'conv2d_28_1/bias:0' shape=(96,) dtype=float32_ref>,\n",
       " <tf.Variable 'batch_normalization_29_1/gamma:0' shape=(96,) dtype=float32_ref>,\n",
       " <tf.Variable 'batch_normalization_29_1/beta:0' shape=(96,) dtype=float32_ref>,\n",
       " <tf.Variable 'conv2d_29_1/kernel:0' shape=(5, 5, 96, 256) dtype=float32_ref>,\n",
       " <tf.Variable 'conv2d_29_1/bias:0' shape=(256,) dtype=float32_ref>,\n",
       " <tf.Variable 'batch_normalization_30_1/gamma:0' shape=(256,) dtype=float32_ref>,\n",
       " <tf.Variable 'batch_normalization_30_1/beta:0' shape=(256,) dtype=float32_ref>,\n",
       " <tf.Variable 'conv2d_30_1/kernel:0' shape=(3, 3, 256, 384) dtype=float32_ref>,\n",
       " <tf.Variable 'conv2d_30_1/bias:0' shape=(384,) dtype=float32_ref>,\n",
       " <tf.Variable 'batch_normalization_31_1/gamma:0' shape=(384,) dtype=float32_ref>,\n",
       " <tf.Variable 'batch_normalization_31_1/beta:0' shape=(384,) dtype=float32_ref>,\n",
       " <tf.Variable 'conv2d_31_1/kernel:0' shape=(3, 3, 384, 256) dtype=float32_ref>,\n",
       " <tf.Variable 'conv2d_31_1/bias:0' shape=(256,) dtype=float32_ref>,\n",
       " <tf.Variable 'batch_normalization_32_1/gamma:0' shape=(256,) dtype=float32_ref>,\n",
       " <tf.Variable 'batch_normalization_32_1/beta:0' shape=(256,) dtype=float32_ref>,\n",
       " <tf.Variable 'conv2d_32_1/kernel:0' shape=(3, 3, 256, 256) dtype=float32_ref>,\n",
       " <tf.Variable 'conv2d_32_1/bias:0' shape=(256,) dtype=float32_ref>,\n",
       " <tf.Variable 'dense_13_1/kernel:0' shape=(1024, 4096) dtype=float32_ref>,\n",
       " <tf.Variable 'dense_13_1/bias:0' shape=(4096,) dtype=float32_ref>,\n",
       " <tf.Variable 'batch_normalization_33_1/gamma:0' shape=(4096,) dtype=float32_ref>,\n",
       " <tf.Variable 'batch_normalization_33_1/beta:0' shape=(4096,) dtype=float32_ref>,\n",
       " <tf.Variable 'dense_14_1/kernel:0' shape=(4096, 4096) dtype=float32_ref>,\n",
       " <tf.Variable 'dense_14_1/bias:0' shape=(4096,) dtype=float32_ref>,\n",
       " <tf.Variable 'batch_normalization_34_1/gamma:0' shape=(4096,) dtype=float32_ref>,\n",
       " <tf.Variable 'batch_normalization_34_1/beta:0' shape=(4096,) dtype=float32_ref>,\n",
       " <tf.Variable 'dense_15_1/kernel:0' shape=(4096, 1000) dtype=float32_ref>,\n",
       " <tf.Variable 'dense_15_1/bias:0' shape=(1000,) dtype=float32_ref>,\n",
       " <tf.Variable 'batch_normalization_35_1/gamma:0' shape=(1000,) dtype=float32_ref>,\n",
       " <tf.Variable 'batch_normalization_35_1/beta:0' shape=(1000,) dtype=float32_ref>,\n",
       " <tf.Variable 'dense_16_1/kernel:0' shape=(1000, 1) dtype=float32_ref>,\n",
       " <tf.Variable 'dense_16_1/bias:0' shape=(1,) dtype=float32_ref>,\n",
       " <tf.Variable 'batch_normalization_29_1/moving_mean:0' shape=(96,) dtype=float32_ref>,\n",
       " <tf.Variable 'batch_normalization_29_1/moving_variance:0' shape=(96,) dtype=float32_ref>,\n",
       " <tf.Variable 'batch_normalization_30_1/moving_mean:0' shape=(256,) dtype=float32_ref>,\n",
       " <tf.Variable 'batch_normalization_30_1/moving_variance:0' shape=(256,) dtype=float32_ref>,\n",
       " <tf.Variable 'batch_normalization_31_1/moving_mean:0' shape=(384,) dtype=float32_ref>,\n",
       " <tf.Variable 'batch_normalization_31_1/moving_variance:0' shape=(384,) dtype=float32_ref>,\n",
       " <tf.Variable 'batch_normalization_32_1/moving_mean:0' shape=(256,) dtype=float32_ref>,\n",
       " <tf.Variable 'batch_normalization_32_1/moving_variance:0' shape=(256,) dtype=float32_ref>,\n",
       " <tf.Variable 'batch_normalization_33_1/moving_mean:0' shape=(4096,) dtype=float32_ref>,\n",
       " <tf.Variable 'batch_normalization_33_1/moving_variance:0' shape=(4096,) dtype=float32_ref>,\n",
       " <tf.Variable 'batch_normalization_34_1/moving_mean:0' shape=(4096,) dtype=float32_ref>,\n",
       " <tf.Variable 'batch_normalization_34_1/moving_variance:0' shape=(4096,) dtype=float32_ref>,\n",
       " <tf.Variable 'batch_normalization_35_1/moving_mean:0' shape=(1000,) dtype=float32_ref>,\n",
       " <tf.Variable 'batch_normalization_35_1/moving_variance:0' shape=(1000,) dtype=float32_ref>]"
      ]
     },
     "execution_count": 22,
     "metadata": {},
     "output_type": "execute_result"
    }
   ],
   "source": [
    "model.weights"
   ]
  },
  {
   "cell_type": "markdown",
   "metadata": {},
   "source": [
    "# Evaluation\n",
    "We're finally ready to evaluate our model on our validation set! Like in the first notebook, we'll create an image generator that will load images in, reshape them, normalize the pixel values, and pass them along to our model for prediction."
   ]
  },
  {
   "cell_type": "code",
   "execution_count": 23,
   "metadata": {},
   "outputs": [
    {
     "name": "stdout",
     "output_type": "stream",
     "text": [
      "Found 500 images belonging to 2 classes.\n"
     ]
    }
   ],
   "source": [
    "validation_generator = test_datagen.flow_from_directory(\n",
    "        VALDIR,\n",
    "        target_size=(227, 227),\n",
    "        batch_size=16,\n",
    "        class_mode='binary')"
   ]
  },
  {
   "cell_type": "code",
   "execution_count": 26,
   "metadata": {
    "scrolled": true
   },
   "outputs": [
    {
     "name": "stdout",
     "output_type": "stream",
     "text": [
      "Accuracy: 0.7681451612903226 Loss: 0.4887146286426052\n"
     ]
    }
   ],
   "source": [
    "loss, acc = model.evaluate_generator(validation_generator, steps=500//16)\n",
    "print(\"Accuracy: {} Loss: {}\".format(acc, loss))"
   ]
  },
  {
   "cell_type": "code",
   "execution_count": 50,
   "metadata": {
    "scrolled": true
   },
   "outputs": [
    {
     "name": "stdout",
     "output_type": "stream",
     "text": [
      "Found 500 images belonging to 2 classes.\n",
      "16/16 [==============================] - 0s 8ms/step\n"
     ]
    }
   ],
   "source": [
    "validation_generator = test_datagen.flow_from_directory(\n",
    "        VALDIR,\n",
    "        target_size=(227, 227),\n",
    "        batch_size=16,\n",
    "        class_mode='binary')\n",
    "X_batch, y_batch = next(validation_generator)\n",
    "y_pred = model.predict_classes(X_batch)"
   ]
  },
  {
   "cell_type": "code",
   "execution_count": 53,
   "metadata": {
    "scrolled": true
   },
   "outputs": [
    {
     "data": {
      "text/plain": [
       "1"
      ]
     },
     "execution_count": 53,
     "metadata": {},
     "output_type": "execute_result"
    }
   ],
   "source": [
    "y_pred[0][0]"
   ]
  },
  {
   "cell_type": "code",
   "execution_count": 64,
   "metadata": {
    "scrolled": true
   },
   "outputs": [
    {
     "data": {
      "image/png": "[encoded data removed]",
      "text/plain": [
       "<matplotlib.figure.Figure at 0x7ff2d8e9c780>"
      ]
     },
     "metadata": {},
     "output_type": "display_data"
    }
   ],
   "source": [
    "# Let's visualize our predictions\n",
    "# The left column will show all of the images that our model thinks are cats,\n",
    "# the right will show all of the images that our model thinks are dogs\n",
    "\n",
    "ncols = 2\n",
    "nimg = X_batch.shape[0]\n",
    "\n",
    "fig = plt.figure(figsize=(18,9))\n",
    "for i in range(len(x_batch)):\n",
    "    x = X_batch[i]\n",
    "    y = y_batch[i]\n",
    "    ax = plt.subplot2grid((nimg//ncols+1, ncols), (i//ncols,y_pred[i][0]))\n",
    "    ax.imshow(x)\n",
    "    #img = array_to_img(x)\n",
    "    #img.show()"
   ]
  },
  {
   "cell_type": "code",
   "execution_count": null,
   "metadata": {
    "collapsed": true
   },
   "outputs": [],
   "source": []
  }
 ],
 "metadata": {
  "kernelspec": {
   "display_name": "Python 3",
   "language": "python",
   "name": "python3"
  },
  "language_info": {
   "codemirror_mode": {
    "name": "ipython",
    "version": 3
   },
   "file_extension": ".py",
   "mimetype": "text/x-python",
   "name": "python",
   "nbconvert_exporter": "python",
   "pygments_lexer": "ipython3",
   "version": "3.5.5"
  }
 },
 "nbformat": 4,
 "nbformat_minor": 2
}
