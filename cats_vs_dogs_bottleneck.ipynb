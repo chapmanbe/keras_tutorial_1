{
 "cells": [
  {
   "cell_type": "markdown",
   "metadata": {},
   "source": [
    "# Introduction to Keras\n",
    "\n",
    "#### Alec Chapman\n",
    "\n",
    "This tutorial was adapted from [this keras blog](https://blog.keras.io/building-powerful-image-classification-models-using-very-little-data.html)\n",
    "\n",
    "\n",
    "The data comes from a [Kaggle competition to classify images as being cats or dogs. The data can be downloaded [here](https://www.kaggle.com/c/dogs-vs-cats/data) after signing into Kaggle (either via a Kaggle account or Google, Facebook, or Yahoo!).\n",
    "\n",
    "## What is Keras?\n",
    "\n",
    "Keras is a high-level deep learning API written in Python. Keras uses [TensorFlow](https://www.tensorflow.org/) (Google), [CNTK](https://github.com/Microsoft/cntk) (Microsoft), or [Theano](http://deeplearning.net/software/theano/) (University of Montreal) as a backend.\n",
    "\n"
   ]
  },
  {
   "cell_type": "markdown",
   "metadata": {},
   "source": [
    "### Import some modules needed for our tutorial"
   ]
  },
  {
   "cell_type": "code",
   "execution_count": 1,
   "metadata": {},
   "outputs": [
    {
     "name": "stderr",
     "output_type": "stream",
     "text": [
      "Using TensorFlow backend.\n"
     ]
    }
   ],
   "source": [
    "import numpy as np\n",
    "from keras.preprocessing.image import ImageDataGenerator\n",
    "from keras.models import Sequential\n",
    "from keras.layers import Dropout, Flatten, Dense\n",
    "from keras import applications\n",
    "import glob, os"
   ]
  },
  {
   "cell_type": "markdown",
   "metadata": {},
   "source": [
    "### Set Paths to Data"
   ]
  },
  {
   "cell_type": "code",
   "execution_count": 2,
   "metadata": {
    "collapsed": true
   },
   "outputs": [],
   "source": [
    "DATADIR = '/home/jovyan/DATA/keras_cat_dog/data'\n",
    "TRAINDIR = os.path.join(DATADIR, 'train')\n",
    "VALDIR = os.path.join(DATADIR, 'val')"
   ]
  },
  {
   "cell_type": "code",
   "execution_count": 3,
   "metadata": {
    "collapsed": true
   },
   "outputs": [],
   "source": [
    "# dimensions of our images.\n",
    "img_width, img_height = 150, 150\n",
    "\n",
    "top_model_weights_path = 'bottleneck_fc_model.h5'\n",
    "\n",
    "train_data_dir = TRAINDIR\n",
    "validation_data_dir = VALDIR\n",
    "nb_train_samples = 2000\n",
    "nb_validation_samples = 500\n",
    "epochs = 50\n",
    "batch_size = 16"
   ]
  },
  {
   "cell_type": "markdown",
   "metadata": {},
   "source": [
    "## Loading and Modifying Pre-trained Model\n",
    "\n",
    "```Python\n",
    "def save_bottlebeck_features():\n",
    "    datagen = ImageDataGenerator(rescale=1. / 255)\n",
    "\n",
    "    # build the VGG16 network\n",
    "    model = applications.VGG16(include_top=False, weights='imagenet')\n",
    "```\n",
    "\n",
    "### Preprocessing\n",
    "\n",
    "```Python\n",
    "    datagen = ImageDataGenerator(rescale=1. / 255)\n",
    "```\n",
    "[ImageDataGenerator](https://keras.io/preprocessing/image/)\n",
    "Keras comes with various pre-defined models. The first time we instantiate a model, the weights are downloaded.\n",
    "\n",
    "```Python\n",
    "    weights='imagenet'\n",
    "```\n",
    "\n",
    "This will download the weights for the model trained on the imagenet data set. If `weights=None`, the weights will be assigned randomly."
   ]
  },
  {
   "cell_type": "code",
   "execution_count": 4,
   "metadata": {
    "collapsed": true
   },
   "outputs": [],
   "source": [
    "def save_bottlebeck_features():\n",
    "    datagen = ImageDataGenerator(rescale=1. / 255)\n",
    "\n",
    "    # build the VGG16 network\n",
    "    model = applications.VGG16(include_top=False, weights='imagenet')\n",
    "\n",
    "    generator = datagen.flow_from_directory(\n",
    "        train_data_dir,\n",
    "        target_size=(img_width, img_height),\n",
    "        batch_size=batch_size,\n",
    "        class_mode=None,\n",
    "        shuffle=False)\n",
    "    bottleneck_features_train = model.predict_generator(\n",
    "        generator, nb_train_samples / batch_size)\n",
    "    with open('bottleneck_features_train.npy', 'wb') as fp:\n",
    "        np.save(fp,\n",
    "                bottleneck_features_train)\n",
    "\n",
    "    generator = datagen.flow_from_directory(\n",
    "        validation_data_dir,\n",
    "        target_size=(img_width, img_height),\n",
    "        batch_size=batch_size,\n",
    "        class_mode=None,\n",
    "        shuffle=False)\n",
    "    bottleneck_features_validation = model.predict_generator(\n",
    "        generator, nb_validation_samples / batch_size)\n",
    "    with open('bottleneck_features_validation.npy', 'wb') as fp:\n",
    "        np.save(fp,\n",
    "                bottleneck_features_validation)"
   ]
  },
  {
   "cell_type": "code",
   "execution_count": 5,
   "metadata": {},
   "outputs": [],
   "source": [
    "#save_bottlebeck_features()"
   ]
  },
  {
   "cell_type": "code",
   "execution_count": 6,
   "metadata": {
    "collapsed": true
   },
   "outputs": [],
   "source": [
    "def train_top_model():\n",
    "    with open('bottleneck_features_train.npy', 'rb') as fp:\n",
    "        train_data = np.load(fp)\n",
    "    train_labels = np.array(\n",
    "        [0] * int(nb_train_samples / 2) + [1] * int(nb_train_samples / 2))\n",
    "\n",
    "    # NOT SURE WHY I'M NOT ENDING UP WITH THE CORRECT NUMBER OF VALIDATIOAN_DATA POINTS\n",
    "    with open('bottleneck_features_validation.npy', 'rb') as fp:\n",
    "        validation_data = np.load(fp)\n",
    "    validation_labels = np.array(\n",
    "        [0] * int(len(validation_data) / 2) + [1] * int(len(validation_data) / 2))\n",
    "\n",
    "    model = Sequential()\n",
    "    model.add(Flatten(input_shape=train_data.shape[1:]))\n",
    "    model.add(Dense(256, activation='relu'))\n",
    "    model.add(Dropout(0.5))\n",
    "    model.add(Dense(1, activation='sigmoid'))\n",
    "\n",
    "    model.compile(optimizer='rmsprop',\n",
    "                  loss='binary_crossentropy', metrics=['accuracy'])\n",
    "\n",
    "    model.fit(train_data, train_labels,\n",
    "              epochs=epochs,\n",
    "              batch_size=batch_size,\n",
    "              validation_data=(validation_data, validation_labels))\n",
    "    model.save_weights(top_model_weights_path)"
   ]
  },
  {
   "cell_type": "code",
   "execution_count": 7,
   "metadata": {},
   "outputs": [
    {
     "name": "stdout",
     "output_type": "stream",
     "text": [
      "Train on 2000 samples, validate on 496 samples\n",
      "Epoch 1/50\n",
      "2000/2000 [==============================] - 2s 989us/step - loss: 0.6809 - acc: 0.7640 - val_loss: 0.3563 - val_acc: 0.8367\n",
      "Epoch 2/50\n",
      "2000/2000 [==============================] - 2s 925us/step - loss: 0.3459 - acc: 0.8560 - val_loss: 0.2599 - val_acc: 0.8831\n",
      "Epoch 3/50\n",
      "2000/2000 [==============================] - 2s 926us/step - loss: 0.2909 - acc: 0.8775 - val_loss: 0.2477 - val_acc: 0.8972\n",
      "Epoch 4/50\n",
      "2000/2000 [==============================] - 2s 923us/step - loss: 0.2488 - acc: 0.9040 - val_loss: 0.2844 - val_acc: 0.8952\n",
      "Epoch 5/50\n",
      "2000/2000 [==============================] - 2s 924us/step - loss: 0.2091 - acc: 0.9105 - val_loss: 0.2861 - val_acc: 0.8891\n",
      "Epoch 6/50\n",
      "2000/2000 [==============================] - 2s 920us/step - loss: 0.2073 - acc: 0.9250 - val_loss: 0.2998 - val_acc: 0.8931\n",
      "Epoch 7/50\n",
      "2000/2000 [==============================] - 2s 925us/step - loss: 0.1611 - acc: 0.9350 - val_loss: 0.5682 - val_acc: 0.8448\n",
      "Epoch 8/50\n",
      "2000/2000 [==============================] - 2s 921us/step - loss: 0.1603 - acc: 0.9390 - val_loss: 0.2737 - val_acc: 0.9093\n",
      "Epoch 9/50\n",
      "2000/2000 [==============================] - 2s 932us/step - loss: 0.1358 - acc: 0.9465 - val_loss: 0.3372 - val_acc: 0.9093\n",
      "Epoch 10/50\n",
      "2000/2000 [==============================] - 2s 927us/step - loss: 0.1191 - acc: 0.9570 - val_loss: 0.3166 - val_acc: 0.9032\n",
      "Epoch 11/50\n",
      "2000/2000 [==============================] - 2s 912us/step - loss: 0.1135 - acc: 0.9590 - val_loss: 0.2941 - val_acc: 0.9093\n",
      "Epoch 12/50\n",
      "2000/2000 [==============================] - 2s 917us/step - loss: 0.1043 - acc: 0.9600 - val_loss: 0.3077 - val_acc: 0.8911\n",
      "Epoch 13/50\n",
      "2000/2000 [==============================] - 2s 926us/step - loss: 0.0769 - acc: 0.9710 - val_loss: 0.5490 - val_acc: 0.8649\n",
      "Epoch 14/50\n",
      "2000/2000 [==============================] - 2s 927us/step - loss: 0.0769 - acc: 0.9735 - val_loss: 0.3889 - val_acc: 0.9012\n",
      "Epoch 15/50\n",
      "2000/2000 [==============================] - 2s 928us/step - loss: 0.0698 - acc: 0.9750 - val_loss: 0.4319 - val_acc: 0.8931\n",
      "Epoch 16/50\n",
      "2000/2000 [==============================] - 2s 914us/step - loss: 0.0667 - acc: 0.9780 - val_loss: 0.5023 - val_acc: 0.9032\n",
      "Epoch 17/50\n",
      "2000/2000 [==============================] - 2s 924us/step - loss: 0.0578 - acc: 0.9795 - val_loss: 0.5040 - val_acc: 0.8952\n",
      "Epoch 18/50\n",
      "2000/2000 [==============================] - 2s 924us/step - loss: 0.0482 - acc: 0.9825 - val_loss: 0.3619 - val_acc: 0.8992\n",
      "Epoch 19/50\n",
      "2000/2000 [==============================] - 2s 927us/step - loss: 0.0438 - acc: 0.9860 - val_loss: 0.4082 - val_acc: 0.9153\n",
      "Epoch 20/50\n",
      "2000/2000 [==============================] - 2s 925us/step - loss: 0.0487 - acc: 0.9810 - val_loss: 0.4434 - val_acc: 0.9153\n",
      "Epoch 21/50\n",
      "2000/2000 [==============================] - 2s 913us/step - loss: 0.0359 - acc: 0.9880 - val_loss: 0.4788 - val_acc: 0.9113\n",
      "Epoch 22/50\n",
      "2000/2000 [==============================] - 2s 923us/step - loss: 0.0377 - acc: 0.9865 - val_loss: 0.4126 - val_acc: 0.8992\n",
      "Epoch 23/50\n",
      "2000/2000 [==============================] - 2s 922us/step - loss: 0.0305 - acc: 0.9880 - val_loss: 0.4914 - val_acc: 0.9153\n",
      "Epoch 24/50\n",
      "2000/2000 [==============================] - 2s 930us/step - loss: 0.0380 - acc: 0.9870 - val_loss: 0.5729 - val_acc: 0.9093\n",
      "Epoch 25/50\n",
      "2000/2000 [==============================] - 2s 930us/step - loss: 0.0301 - acc: 0.9900 - val_loss: 0.5353 - val_acc: 0.9052\n",
      "Epoch 26/50\n",
      "2000/2000 [==============================] - 2s 929us/step - loss: 0.0298 - acc: 0.9915 - val_loss: 0.5496 - val_acc: 0.9073\n",
      "Epoch 27/50\n",
      "2000/2000 [==============================] - 2s 918us/step - loss: 0.0266 - acc: 0.9910 - val_loss: 0.4883 - val_acc: 0.9093\n",
      "Epoch 28/50\n",
      "2000/2000 [==============================] - 2s 919us/step - loss: 0.0203 - acc: 0.9935 - val_loss: 0.6442 - val_acc: 0.8992\n",
      "Epoch 29/50\n",
      "2000/2000 [==============================] - 2s 918us/step - loss: 0.0289 - acc: 0.9905 - val_loss: 0.5245 - val_acc: 0.9093\n",
      "Epoch 30/50\n",
      "2000/2000 [==============================] - 2s 914us/step - loss: 0.0337 - acc: 0.9870 - val_loss: 0.8432 - val_acc: 0.8851\n",
      "Epoch 31/50\n",
      "2000/2000 [==============================] - 2s 908us/step - loss: 0.0340 - acc: 0.9855 - val_loss: 0.5803 - val_acc: 0.8952\n",
      "Epoch 32/50\n",
      "2000/2000 [==============================] - 2s 918us/step - loss: 0.0149 - acc: 0.9935 - val_loss: 0.6629 - val_acc: 0.9032\n",
      "Epoch 33/50\n",
      "2000/2000 [==============================] - 2s 922us/step - loss: 0.0221 - acc: 0.9945 - val_loss: 0.7194 - val_acc: 0.8911\n",
      "Epoch 34/50\n",
      "2000/2000 [==============================] - 2s 932us/step - loss: 0.0195 - acc: 0.9940 - val_loss: 0.6098 - val_acc: 0.9073\n",
      "Epoch 35/50\n",
      "2000/2000 [==============================] - 2s 942us/step - loss: 0.0131 - acc: 0.9950 - val_loss: 0.6621 - val_acc: 0.9032\n",
      "Epoch 36/50\n",
      "2000/2000 [==============================] - 2s 913us/step - loss: 0.0204 - acc: 0.9950 - val_loss: 0.6634 - val_acc: 0.9032\n",
      "Epoch 37/50\n",
      "2000/2000 [==============================] - 2s 912us/step - loss: 0.0190 - acc: 0.9955 - val_loss: 0.6779 - val_acc: 0.9073\n",
      "Epoch 38/50\n",
      "2000/2000 [==============================] - 2s 908us/step - loss: 0.0211 - acc: 0.9930 - val_loss: 0.6682 - val_acc: 0.8952\n",
      "Epoch 39/50\n",
      "2000/2000 [==============================] - 2s 913us/step - loss: 0.0173 - acc: 0.9940 - val_loss: 0.8163 - val_acc: 0.8992\n",
      "Epoch 40/50\n",
      "2000/2000 [==============================] - 2s 917us/step - loss: 0.0091 - acc: 0.9965 - val_loss: 0.6820 - val_acc: 0.9093\n",
      "Epoch 41/50\n",
      "2000/2000 [==============================] - 2s 922us/step - loss: 0.0140 - acc: 0.9945 - val_loss: 0.5906 - val_acc: 0.9133\n",
      "Epoch 42/50\n",
      "2000/2000 [==============================] - 2s 926us/step - loss: 0.0125 - acc: 0.9945 - val_loss: 0.7502 - val_acc: 0.8972\n",
      "Epoch 43/50\n",
      "2000/2000 [==============================] - 2s 922us/step - loss: 0.0075 - acc: 0.9990 - val_loss: 0.8301 - val_acc: 0.9032\n",
      "Epoch 44/50\n",
      "2000/2000 [==============================] - 2s 920us/step - loss: 0.0088 - acc: 0.9975 - val_loss: 0.8401 - val_acc: 0.9012\n",
      "Epoch 45/50\n",
      "2000/2000 [==============================] - 2s 922us/step - loss: 0.0128 - acc: 0.9955 - val_loss: 0.8640 - val_acc: 0.8891\n",
      "Epoch 46/50\n",
      "2000/2000 [==============================] - 2s 921us/step - loss: 0.0102 - acc: 0.9950 - val_loss: 0.7142 - val_acc: 0.9052\n",
      "Epoch 47/50\n",
      "2000/2000 [==============================] - 2s 920us/step - loss: 0.0118 - acc: 0.9970 - val_loss: 0.7088 - val_acc: 0.9113\n",
      "Epoch 48/50\n",
      "2000/2000 [==============================] - 2s 922us/step - loss: 0.0097 - acc: 0.9965 - val_loss: 0.7929 - val_acc: 0.8992\n",
      "Epoch 49/50\n",
      "2000/2000 [==============================] - 2s 916us/step - loss: 0.0034 - acc: 0.9975 - val_loss: 0.8605 - val_acc: 0.9052\n",
      "Epoch 50/50\n",
      "2000/2000 [==============================] - 2s 938us/step - loss: 0.0208 - acc: 0.9940 - val_loss: 0.9165 - val_acc: 0.8972\n"
     ]
    }
   ],
   "source": [
    "train_top_model()"
   ]
  },
  {
   "cell_type": "code",
   "execution_count": null,
   "metadata": {
    "collapsed": true
   },
   "outputs": [],
   "source": []
  },
  {
   "cell_type": "code",
   "execution_count": null,
   "metadata": {
    "collapsed": true
   },
   "outputs": [],
   "source": []
  },
  {
   "cell_type": "code",
   "execution_count": null,
   "metadata": {
    "collapsed": true
   },
   "outputs": [],
   "source": []
  }
 ],
 "metadata": {
  "kernelspec": {
   "display_name": "Python 3",
   "language": "python",
   "name": "python3"
  },
  "language_info": {
   "codemirror_mode": {
    "name": "ipython",
    "version": 3
   },
   "file_extension": ".py",
   "mimetype": "text/x-python",
   "name": "python",
   "nbconvert_exporter": "python",
   "pygments_lexer": "ipython3",
   "version": "3.5.5"
  }
 },
 "nbformat": 4,
 "nbformat_minor": 2
}
